{
  "cells": [
    {
      "cell_type": "markdown",
      "id": "fa50b99a",
      "metadata": {
        "id": "fa50b99a"
      },
      "source": [
        "# Data Science Tools and Ecosystem"
      ]
    },
    {
      "cell_type": "markdown",
      "id": "b630a6ec",
      "metadata": {
        "id": "b630a6ec"
      },
      "source": [
        "In this notebook, Data Science Tools and Ecosystem are summarized."
      ]
    },
    {
      "cell_type": "markdown",
      "id": "282f2a80",
      "metadata": {
        "id": "282f2a80"
      },
      "source": [
        "Some of the popular languages that Data Scientists use are:\n",
        "\n",
        "1. Python\n",
        "2. R\n",
        "3. SQL\n",
        "4. Julia\n",
        "5. Scala\n"
      ]
    },
    {
      "cell_type": "markdown",
      "id": "bb9e7e93",
      "metadata": {
        "id": "bb9e7e93"
      },
      "source": [
        "Some of the commonly used libraries used by Data Scientists include:\n",
        "\n",
        "1. NumPy\n",
        "2. Pandas\n",
        "3. TensorFlow\n",
        "4. Scikit-learn\n",
        "5. Matplotlib\n"
      ]
    },
    {
      "cell_type": "markdown",
      "id": "0d79ecc3",
      "metadata": {
        "id": "0d79ecc3"
      },
      "source": [
        "| Data Science Tools       |\n",
        "|--------------------------|\n",
        "| Jupyter Notebook         |\n",
        "| RStudio                  |\n",
        "| Visual Studio Code       |\n"
      ]
    },
    {
      "cell_type": "markdown",
      "id": "8c73fa79",
      "metadata": {
        "id": "8c73fa79"
      },
      "source": [
        "### Below are a few examples of evaluating arithmetic expressions in Python."
      ]
    },
    {
      "cell_type": "code",
      "execution_count": null,
      "id": "371185de",
      "metadata": {
        "colab": {
          "base_uri": "https://localhost:8080/"
        },
        "id": "371185de",
        "outputId": "ebf563f7-a863-495d-f531-47713c427d82"
      },
      "outputs": [
        {
          "output_type": "execute_result",
          "data": {
            "text/plain": [
              "17"
            ]
          },
          "metadata": {},
          "execution_count": 3
        }
      ],
      "source": [
        "# This a simple arithmetic expression to multiply then add integers\n",
        "(3 * 4) + 5\n"
      ]
    },
    {
      "cell_type": "code",
      "execution_count": null,
      "id": "e0218dff",
      "metadata": {
        "colab": {
          "base_uri": "https://localhost:8080/"
        },
        "id": "e0218dff",
        "outputId": "48e05f23-c972-4a27-cf9e-bbeb383075de"
      },
      "outputs": [
        {
          "output_type": "execute_result",
          "data": {
            "text/plain": [
              "3.3333333333333335"
            ]
          },
          "metadata": {},
          "execution_count": 4
        }
      ],
      "source": [
        "# This will convert 200 minutes to hours by dividing by 60\n",
        "200 / 60\n"
      ]
    },
    {
      "cell_type": "markdown",
      "id": "d69f3441",
      "metadata": {
        "id": "d69f3441"
      },
      "source": [
        "**Objectives:**\n",
        "\n",
        "- List popular languages for Data Science\n",
        "- List commonly used libraries for Data Science\n",
        "- Demonstrate examples of arithmetic expressions in Python\n",
        "- Introduce open-source tools used in Data Science\n"
      ]
    },
    {
      "cell_type": "markdown",
      "id": "7d310b96",
      "metadata": {
        "id": "7d310b96"
      },
      "source": [
        "## Author\n",
        "\n",
        "Alejandra Delgado\n"
      ]
    }
  ],
  "metadata": {
    "colab": {
      "provenance": []
    },
    "language_info": {
      "name": "python"
    },
    "kernelspec": {
      "name": "python3",
      "display_name": "Python 3"
    }
  },
  "nbformat": 4,
  "nbformat_minor": 5
}